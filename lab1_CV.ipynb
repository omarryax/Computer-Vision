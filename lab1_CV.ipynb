{
  "nbformat": 4,
  "nbformat_minor": 0,
  "metadata": {
    "colab": {
      "provenance": []
    },
    "kernelspec": {
      "name": "python3",
      "display_name": "Python 3"
    },
    "language_info": {
      "name": "python"
    }
  },
  "cells": [
    {
      "cell_type": "code",
      "execution_count": null,
      "metadata": {
        "id": "pfi0GgHm9wg0"
      },
      "outputs": [],
      "source": [
        "import cv2\n",
        "import os\n",
        "import glob\n",
        "\n",
        "def resize_image(img, scale_percent):\n",
        "    width = int(img.shape[1] * scale_percent / 100)\n",
        "    height = int(img.shape[0] * scale_percent / 100)\n",
        "    return cv2.resize(img, (width, height))\n",
        "\n"
      ]
    },
    {
      "cell_type": "code",
      "source": [
        "def rotate_and_flip(img):\n",
        "    rotated_img = cv2.rotate(img, cv2.ROTATE_90_CLOCKWISE)\n",
        "    flipped_img = cv2.flip(rotated_img, 1)  # 1 for horizontal flip\n",
        "    return flipped_img\n",
        "\n"
      ],
      "metadata": {
        "id": "qSXy9ROg93RQ"
      },
      "execution_count": null,
      "outputs": []
    },
    {
      "cell_type": "code",
      "source": [
        "def blend_images(img1, img2, alpha):\n",
        "    return cv2.addWeighted(img1, alpha, img2, 1 - alpha, 0)\n",
        "\n"
      ],
      "metadata": {
        "id": "sZnm9deG967u"
      },
      "execution_count": null,
      "outputs": []
    },
    {
      "cell_type": "code",
      "source": [
        "def create_roi(img, x, y, width, height):\n",
        "    return img[y:y+height, x:x+width]\n",
        "\n",
        "\n"
      ],
      "metadata": {
        "id": "JQ0qTF7I9-Fx"
      },
      "execution_count": null,
      "outputs": []
    },
    {
      "cell_type": "code",
      "source": [
        "def apply_threshold(img, threshold_value):\n",
        "    _, thresholded_img = cv2.threshold(img, threshold_value, 255, cv2.THRESH_BINARY)\n",
        "    return thresholded_img\n",
        "\n"
      ],
      "metadata": {
        "id": "bFS_Lm229-Pj"
      },
      "execution_count": null,
      "outputs": []
    },
    {
      "cell_type": "code",
      "source": [
        "def edge_detection(img):\n",
        "    gray_img = cv2.cvtColor(img, cv2.COLOR_BGR2GRAY)\n",
        "    edges = cv2.Canny(gray_img, 50, 150)\n",
        "    return edges\n",
        "\n"
      ],
      "metadata": {
        "id": "OsO5QK95-CJA"
      },
      "execution_count": null,
      "outputs": []
    },
    {
      "cell_type": "code",
      "source": [
        "def main():\n",
        "    input_folder = \"path\"\n",
        "    output_folder = \"path\"\n",
        "\n",
        "    # Create the output folder if it doesn't exist\n",
        "    if not os.path.exists(output_folder):\n",
        "        os.makedirs(output_folder)\n",
        "\n",
        "    # Supported image extensions\n",
        "    supported_extensions = ['jpg', 'png', 'tiff']\n",
        "\n",
        "    # Loop through images in the input folder\n",
        "    for extension in supported_extensions:\n",
        "        image_files = glob.glob(os.path.join(input_folder, f'*.{extension}'))\n",
        "\n",
        "        for image_file in image_files:\n",
        "            # Load image\n",
        "            img = cv2.imread(image_file)\n",
        "\n",
        "            # Apply operations\n",
        "            resized_img = resize_image(img, scale_percent=50)\n",
        "            rotated_and_flipped_img = rotate_and_flip(resized_img)\n",
        "            blended_img = blend_images(resized_img, rotated_and_flipped_img, alpha=0.5)\n",
        "            roi_img = create_roi(blended_img, x=50, y=50, width=200, height=200)\n",
        "            thresholded_img = apply_threshold(roi_img, threshold_value=127)\n",
        "            edge_detected_img = edge_detection(thresholded_img)\n",
        "\n",
        "            # Save processed image\n",
        "            output_file = os.path.join(output_folder, f\"processed_{os.path.basename(image_file)}\")\n",
        "            cv2.imwrite(output_file, edge_detected_img)\n",
        "\n",
        "if __name__ == \"__main__\":\n",
        "    main()"
      ],
      "metadata": {
        "id": "EvOdQSdX-EcQ"
      },
      "execution_count": null,
      "outputs": []
    }
  ]
}