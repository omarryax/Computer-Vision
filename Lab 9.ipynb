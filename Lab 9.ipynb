{
  "nbformat": 4,
  "nbformat_minor": 0,
  "metadata": {
    "colab": {
      "provenance": []
    },
    "kernelspec": {
      "name": "python3",
      "display_name": "Python 3"
    },
    "language_info": {
      "name": "python"
    }
  },
  "cells": [
    {
      "cell_type": "markdown",
      "source": [
        "Muhammad Umar Riaz- 210648"
      ],
      "metadata": {
        "id": "-IRH_juyno_q"
      }
    },
    {
      "cell_type": "code",
      "source": [
        "pip install pytube\n"
      ],
      "metadata": {
        "colab": {
          "base_uri": "https://localhost:8080/"
        },
        "id": "lWSnOV6nmrPr",
        "outputId": "02b000a2-cc72-4abd-b286-df7d3d7ca444"
      },
      "execution_count": null,
      "outputs": [
        {
          "output_type": "stream",
          "name": "stdout",
          "text": [
            "Collecting pytube\n",
            "  Downloading pytube-15.0.0-py3-none-any.whl (57 kB)\n",
            "\u001b[?25l     \u001b[90m━━━━━━━━━━━━━━━━━━━━━━━━━━━━━━━━━━━━━━━━\u001b[0m \u001b[32m0.0/57.6 kB\u001b[0m \u001b[31m?\u001b[0m eta \u001b[36m-:--:--\u001b[0m\r\u001b[2K     \u001b[90m━━━━━━━━━━━━━━━━━━━━━━━━━━━━━━━━━━━━━━━━\u001b[0m \u001b[32m57.6/57.6 kB\u001b[0m \u001b[31m2.0 MB/s\u001b[0m eta \u001b[36m0:00:00\u001b[0m\n",
            "\u001b[?25hInstalling collected packages: pytube\n",
            "Successfully installed pytube-15.0.0\n"
          ]
        }
      ]
    },
    {
      "cell_type": "code",
      "source": [
        "import cv2\n",
        "import numpy as np\n",
        "import pandas as pd\n",
        "from pytube import YouTube\n",
        "\n",
        "# Function to extract SIFT descriptors from a frame\n",
        "def extract_sift_descriptors(frame):\n",
        "    gray = cv2.cvtColor(frame, cv2.COLOR_BGR2GRAY)\n",
        "    sift = cv2.SIFT_create()\n",
        "    keypoints, descriptors = sift.detectAndCompute(gray, None)\n",
        "    return descriptors\n",
        "\n",
        "# Download YouTube video\n",
        "yt_url = \"https://youtu.be/7o_fRK-66bY?si=tVPINdmkHV4U7UIe\"\n",
        "yt = YouTube(yt_url)\n",
        "video_stream = yt.streams.filter(file_extension=\"mp4\").first()\n",
        "video_stream.download(output_path=\".\", filename=\"video.mp4\")\n",
        "\n",
        "# Read the video\n",
        "cap = cv2.VideoCapture('video.mp4')\n",
        "\n",
        "# Initialize list to store descriptors\n",
        "all_descriptors = []\n",
        "\n",
        "# Process each frame\n",
        "while True:\n",
        "    ret, frame = cap.read()\n",
        "    if not ret:\n",
        "        break\n",
        "\n",
        "    # Extract SIFT descriptors\n",
        "    descriptors = extract_sift_descriptors(frame)\n",
        "\n",
        "    # Store descriptors\n",
        "    if descriptors is not None:\n",
        "        all_descriptors.extend(descriptors)\n",
        "\n",
        "# Convert descriptors list to numpy array\n",
        "all_descriptors = np.array(all_descriptors)\n",
        "\n",
        "# Save descriptors to CSV file\n",
        "df = pd.DataFrame(all_descriptors)\n",
        "df.to_csv('sift_descriptors.csv', index=False, header=False)\n",
        "\n",
        "# Release video capture\n",
        "cap.release()\n",
        "\n",
        "print(\"SIFT descriptors saved to sift_descriptors.csv\")\n"
      ],
      "metadata": {
        "colab": {
          "base_uri": "https://localhost:8080/"
        },
        "id": "7ko1qv3pmroB",
        "outputId": "ffcb8ff9-2ee1-4941-9bc1-aa213cd494c3"
      },
      "execution_count": null,
      "outputs": [
        {
          "output_type": "stream",
          "name": "stdout",
          "text": [
            "SIFT descriptors saved to sift_descriptors.csv\n"
          ]
        }
      ]
    }
  ]
}